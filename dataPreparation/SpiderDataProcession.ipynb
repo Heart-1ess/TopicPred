{
 "cells": [
  {
   "cell_type": "code",
   "execution_count": 1,
   "id": "f3d27f4a",
   "metadata": {},
   "outputs": [],
   "source": [
    "import pandas as pd\n",
    "import numpy as np"
   ]
  },
  {
   "cell_type": "code",
   "execution_count": 4,
   "id": "c4f7d7b1",
   "metadata": {},
   "outputs": [
    {
     "data": {
      "text/html": [
       "<div>\n",
       "<style scoped>\n",
       "    .dataframe tbody tr th:only-of-type {\n",
       "        vertical-align: middle;\n",
       "    }\n",
       "\n",
       "    .dataframe tbody tr th {\n",
       "        vertical-align: top;\n",
       "    }\n",
       "\n",
       "    .dataframe thead th {\n",
       "        text-align: right;\n",
       "    }\n",
       "</style>\n",
       "<table border=\"1\" class=\"dataframe\">\n",
       "  <thead>\n",
       "    <tr style=\"text-align: right;\">\n",
       "      <th></th>\n",
       "      <th>web-scraper-order</th>\n",
       "      <th>web-scraper-start-url</th>\n",
       "      <th>urls</th>\n",
       "      <th>urls-href</th>\n",
       "      <th>url</th>\n",
       "      <th>url-href</th>\n",
       "    </tr>\n",
       "  </thead>\n",
       "  <tbody>\n",
       "    <tr>\n",
       "      <th>0</th>\n",
       "      <td>1700035439-1</td>\n",
       "      <td>https://www.haaretz.com/ty-tag/2023-israel-gaz...</td>\n",
       "      <td>Aircraft Carrier Offshore Iran, Strategic Bomb...</td>\n",
       "      <td>https://www.haaretz.com/israel-news/security-a...</td>\n",
       "      <td>NaN</td>\n",
       "      <td>NaN</td>\n",
       "    </tr>\n",
       "    <tr>\n",
       "      <th>1</th>\n",
       "      <td>1700035439-2</td>\n",
       "      <td>https://www.haaretz.com/ty-tag/2023-israel-gaz...</td>\n",
       "      <td>Israel Turns Down International Request to All...</td>\n",
       "      <td>https://www.haaretz.com/israel-news/2023-11-14...</td>\n",
       "      <td>NaN</td>\n",
       "      <td>NaN</td>\n",
       "    </tr>\n",
       "    <tr>\n",
       "      <th>2</th>\n",
       "      <td>1700035439-3</td>\n",
       "      <td>https://www.haaretz.com/ty-tag/2023-israel-gaz...</td>\n",
       "      <td>Around 200,000 Rally in Washington D.C. in Sup...</td>\n",
       "      <td>https://www.haaretz.com/us-news/2023-11-14/ty-...</td>\n",
       "      <td>NaN</td>\n",
       "      <td>NaN</td>\n",
       "    </tr>\n",
       "    <tr>\n",
       "      <th>3</th>\n",
       "      <td>1700035439-4</td>\n",
       "      <td>https://www.haaretz.com/ty-tag/2023-israel-gaz...</td>\n",
       "      <td>Israeli MKs Call on West to 'Welcome' Refugees...</td>\n",
       "      <td>https://www.haaretz.com/israel-news/2023-11-14...</td>\n",
       "      <td>NaN</td>\n",
       "      <td>NaN</td>\n",
       "    </tr>\n",
       "    <tr>\n",
       "      <th>4</th>\n",
       "      <td>1700035439-5</td>\n",
       "      <td>https://www.haaretz.com/ty-tag/2023-israel-gaz...</td>\n",
       "      <td>Israeli Captives' Families Set Out on 5-day Ma...</td>\n",
       "      <td>https://www.haaretz.com/israel-news/2023-11-14...</td>\n",
       "      <td>NaN</td>\n",
       "      <td>NaN</td>\n",
       "    </tr>\n",
       "  </tbody>\n",
       "</table>\n",
       "</div>"
      ],
      "text/plain": [
       "  web-scraper-order                              web-scraper-start-url  \\\n",
       "0      1700035439-1  https://www.haaretz.com/ty-tag/2023-israel-gaz...   \n",
       "1      1700035439-2  https://www.haaretz.com/ty-tag/2023-israel-gaz...   \n",
       "2      1700035439-3  https://www.haaretz.com/ty-tag/2023-israel-gaz...   \n",
       "3      1700035439-4  https://www.haaretz.com/ty-tag/2023-israel-gaz...   \n",
       "4      1700035439-5  https://www.haaretz.com/ty-tag/2023-israel-gaz...   \n",
       "\n",
       "                                                urls  \\\n",
       "0  Aircraft Carrier Offshore Iran, Strategic Bomb...   \n",
       "1  Israel Turns Down International Request to All...   \n",
       "2  Around 200,000 Rally in Washington D.C. in Sup...   \n",
       "3  Israeli MKs Call on West to 'Welcome' Refugees...   \n",
       "4  Israeli Captives' Families Set Out on 5-day Ma...   \n",
       "\n",
       "                                           urls-href  url url-href  \n",
       "0  https://www.haaretz.com/israel-news/security-a...  NaN      NaN  \n",
       "1  https://www.haaretz.com/israel-news/2023-11-14...  NaN      NaN  \n",
       "2  https://www.haaretz.com/us-news/2023-11-14/ty-...  NaN      NaN  \n",
       "3  https://www.haaretz.com/israel-news/2023-11-14...  NaN      NaN  \n",
       "4  https://www.haaretz.com/israel-news/2023-11-14...  NaN      NaN  "
      ]
     },
     "execution_count": 4,
     "metadata": {},
     "output_type": "execute_result"
    }
   ],
   "source": [
    "df = pd.read_csv('/home/chengyuli/yanshan/data/DataScience/bayijushi_UN.csv')\n",
    "df = df.dropna()\n",
    "df.head()"
   ]
  },
  {
   "cell_type": "code",
   "execution_count": 5,
   "metadata": {},
   "outputs": [
    {
     "name": "stdout",
     "output_type": "stream",
     "text": [
      "<class 'pandas.core.frame.DataFrame'>\n",
      "RangeIndex: 7361 entries, 0 to 7360\n",
      "Data columns (total 6 columns):\n",
      " #   Column                 Non-Null Count  Dtype \n",
      "---  ------                 --------------  ----- \n",
      " 0   web-scraper-order      7361 non-null   object\n",
      " 1   web-scraper-start-url  7361 non-null   object\n",
      " 2   urls                   7356 non-null   object\n",
      " 3   urls-href              7356 non-null   object\n",
      " 4   url                    5 non-null      object\n",
      " 5   url-href               5 non-null      object\n",
      "dtypes: object(6)\n",
      "memory usage: 345.2+ KB\n"
     ]
    }
   ],
   "source": [
    "df.info()"
   ]
  },
  {
   "cell_type": "code",
   "execution_count": 7,
   "id": "607c8852",
   "metadata": {},
   "outputs": [
    {
     "data": {
      "text/html": [
       "<div>\n",
       "<style scoped>\n",
       "    .dataframe tbody tr th:only-of-type {\n",
       "        vertical-align: middle;\n",
       "    }\n",
       "\n",
       "    .dataframe tbody tr th {\n",
       "        vertical-align: top;\n",
       "    }\n",
       "\n",
       "    .dataframe thead th {\n",
       "        text-align: right;\n",
       "    }\n",
       "</style>\n",
       "<table border=\"1\" class=\"dataframe\">\n",
       "  <thead>\n",
       "    <tr style=\"text-align: right;\">\n",
       "      <th></th>\n",
       "      <th>web-scraper-order</th>\n",
       "      <th>web-scraper-start-url</th>\n",
       "      <th>urls</th>\n",
       "      <th>urls-href</th>\n",
       "      <th>time</th>\n",
       "      <th>contents</th>\n",
       "    </tr>\n",
       "  </thead>\n",
       "  <tbody>\n",
       "    <tr>\n",
       "      <th>0</th>\n",
       "      <td>1701845523-1</td>\n",
       "      <td>https://news.un.org/zh/tags/bayijushi?f[0]=dat...</td>\n",
       "      <td>【巴以冲突第60天】加沙地带已无安全区，绝望情绪日益加剧</td>\n",
       "      <td>https://news.un.org/zh/story/2023/12/1124617</td>\n",
       "      <td>2023年12月5日</td>\n",
       "      <td>世界卫生组织今天表示，自哈马斯武装分子10月7日在以色列南部屠杀约1200人并劫持约240名...</td>\n",
       "    </tr>\n",
       "    <tr>\n",
       "      <th>1</th>\n",
       "      <td>1701845523-2</td>\n",
       "      <td>https://news.un.org/zh/tags/bayijushi?f[0]=dat...</td>\n",
       "      <td>国际刑事法院检察官首访以色列与巴勒斯坦国，强调法律必须能够保护所有人</td>\n",
       "      <td>https://news.un.org/zh/story/2023/12/1124607</td>\n",
       "      <td>2023年12月4日</td>\n",
       "      <td>国际刑事法院检察官卡里姆·汗（Karim Khan）于12月2日结束了对以色列与巴勒斯坦国的...</td>\n",
       "    </tr>\n",
       "    <tr>\n",
       "      <th>2</th>\n",
       "      <td>1701845523-3</td>\n",
       "      <td>https://news.un.org/zh/tags/bayijushi?f[0]=dat...</td>\n",
       "      <td>【巴以冲突第58天】人权高专呼吁结束暴力，恢复对话</td>\n",
       "      <td>https://news.un.org/zh/story/2023/12/1124562</td>\n",
       "      <td>2023年12月3日</td>\n",
       "      <td>联合国人权事务高级专员蒂尔克今天表示，加沙地带重新恢复的残酷敌对行动及其对平民的可怕影响再次...</td>\n",
       "    </tr>\n",
       "    <tr>\n",
       "      <th>3</th>\n",
       "      <td>1701845523-4</td>\n",
       "      <td>https://news.un.org/zh/tags/bayijushi?f[0]=dat...</td>\n",
       "      <td>【巴以冲突第57天】以军轰炸造成大量人员伤亡，医疗设施不堪重负</td>\n",
       "      <td>https://news.un.org/zh/story/2023/12/1124557</td>\n",
       "      <td>2023年12月2日</td>\n",
       "      <td>联合国人道主义事务协调厅今天表示，自休战结束以来，以色列连续第二天继续从空中、陆地和海上对加...</td>\n",
       "    </tr>\n",
       "    <tr>\n",
       "      <th>4</th>\n",
       "      <td>1701845523-5</td>\n",
       "      <td>https://news.un.org/zh/tags/bayijushi?f[0]=dat...</td>\n",
       "      <td>【巴以冲突第56天】战火再起，加沙满目疮痍之下重陷震惊与恐惧</td>\n",
       "      <td>https://news.un.org/zh/story/2023/12/1124512</td>\n",
       "      <td>2023年12月1日</td>\n",
       "      <td>在经历连续七日的人道主义暂停之后，军事行动今天在加沙重启，联合国秘书长古特雷斯对此深表遗憾。...</td>\n",
       "    </tr>\n",
       "  </tbody>\n",
       "</table>\n",
       "</div>"
      ],
      "text/plain": [
       "  web-scraper-order                              web-scraper-start-url  \\\n",
       "0      1701845523-1  https://news.un.org/zh/tags/bayijushi?f[0]=dat...   \n",
       "1      1701845523-2  https://news.un.org/zh/tags/bayijushi?f[0]=dat...   \n",
       "2      1701845523-3  https://news.un.org/zh/tags/bayijushi?f[0]=dat...   \n",
       "3      1701845523-4  https://news.un.org/zh/tags/bayijushi?f[0]=dat...   \n",
       "4      1701845523-5  https://news.un.org/zh/tags/bayijushi?f[0]=dat...   \n",
       "\n",
       "                                 urls  \\\n",
       "0        【巴以冲突第60天】加沙地带已无安全区，绝望情绪日益加剧   \n",
       "1  国际刑事法院检察官首访以色列与巴勒斯坦国，强调法律必须能够保护所有人   \n",
       "2           【巴以冲突第58天】人权高专呼吁结束暴力，恢复对话   \n",
       "3     【巴以冲突第57天】以军轰炸造成大量人员伤亡，医疗设施不堪重负   \n",
       "4      【巴以冲突第56天】战火再起，加沙满目疮痍之下重陷震惊与恐惧   \n",
       "\n",
       "                                      urls-href        time  \\\n",
       "0  https://news.un.org/zh/story/2023/12/1124617  2023年12月5日   \n",
       "1  https://news.un.org/zh/story/2023/12/1124607  2023年12月4日   \n",
       "2  https://news.un.org/zh/story/2023/12/1124562  2023年12月3日   \n",
       "3  https://news.un.org/zh/story/2023/12/1124557  2023年12月2日   \n",
       "4  https://news.un.org/zh/story/2023/12/1124512  2023年12月1日   \n",
       "\n",
       "                                            contents  \n",
       "0  世界卫生组织今天表示，自哈马斯武装分子10月7日在以色列南部屠杀约1200人并劫持约240名...  \n",
       "1  国际刑事法院检察官卡里姆·汗（Karim Khan）于12月2日结束了对以色列与巴勒斯坦国的...  \n",
       "2  联合国人权事务高级专员蒂尔克今天表示，加沙地带重新恢复的残酷敌对行动及其对平民的可怕影响再次...  \n",
       "3  联合国人道主义事务协调厅今天表示，自休战结束以来，以色列连续第二天继续从空中、陆地和海上对加...  \n",
       "4  在经历连续七日的人道主义暂停之后，军事行动今天在加沙重启，联合国秘书长古特雷斯对此深表遗憾。...  "
      ]
     },
     "execution_count": 7,
     "metadata": {},
     "output_type": "execute_result"
    }
   ],
   "source": [
    "import requests\n",
    "from bs4 import BeautifulSoup as bs\n",
    "contents = []\n",
    "for each in df['urls-href']:\n",
    "    resp = requests.get(each)\n",
    "    soup = bs(resp.text, \"lxml\")\n",
    "    txt = soup.findAll('p')\n",
    "    content = ''\n",
    "    for each in txt:\n",
    "        if each.string:\n",
    "            content += each.string\n",
    "    contents.append(content)\n",
    "df['contents'] = contents\n",
    "df.head()"
   ]
  },
  {
   "cell_type": "code",
   "execution_count": 8,
   "id": "ed69001e",
   "metadata": {},
   "outputs": [],
   "source": [
    "df.to_csv(\"/home/chengyuli/yanshan/data/DataScience/UN_raw.csv\", index=False)"
   ]
  },
  {
   "cell_type": "code",
   "execution_count": null,
   "metadata": {},
   "outputs": [],
   "source": []
  }
 ],
 "metadata": {
  "kernelspec": {
   "display_name": "MachineLearning",
   "language": "python",
   "name": "ml"
  },
  "language_info": {
   "codemirror_mode": {
    "name": "ipython",
    "version": 3
   },
   "file_extension": ".py",
   "mimetype": "text/x-python",
   "name": "python",
   "nbconvert_exporter": "python",
   "pygments_lexer": "ipython3",
   "version": "3.8.18"
  },
  "varInspector": {
   "cols": {
    "lenName": 16,
    "lenType": 16,
    "lenVar": 40
   },
   "kernels_config": {
    "python": {
     "delete_cmd_postfix": "",
     "delete_cmd_prefix": "del ",
     "library": "var_list.py",
     "varRefreshCmd": "print(var_dic_list())"
    },
    "r": {
     "delete_cmd_postfix": ") ",
     "delete_cmd_prefix": "rm(",
     "library": "var_list.r",
     "varRefreshCmd": "cat(var_dic_list()) "
    }
   },
   "types_to_exclude": [
    "module",
    "function",
    "builtin_function_or_method",
    "instance",
    "_Feature"
   ],
   "window_display": false
  }
 },
 "nbformat": 4,
 "nbformat_minor": 5
}
