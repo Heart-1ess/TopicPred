{
 "cells": [
  {
   "cell_type": "code",
   "execution_count": 1,
   "metadata": {},
   "outputs": [],
   "source": [
    "import pandas as pd\n",
    "import numpy as np\n",
    "\n",
    "import os"
   ]
  },
  {
   "cell_type": "code",
   "execution_count": 2,
   "metadata": {},
   "outputs": [],
   "source": [
    "file_dir = '/home/chengyuli/yanshan/data/DataScience/rawData'\n",
    "\n",
    "file_list = os.walk(file_dir)\n",
    "\n",
    "df_list = []\n",
    "\n",
    "for root, dirs, files in file_list:\n",
    "    for file in files:\n",
    "        df_list.append(pd.read_csv(os.path.join(file_dir, file)))\n",
    "        \n",
    "final = pd.concat(df_list)"
   ]
  },
  {
   "cell_type": "code",
   "execution_count": 3,
   "metadata": {},
   "outputs": [
    {
     "data": {
      "text/html": [
       "<div>\n",
       "<style scoped>\n",
       "    .dataframe tbody tr th:only-of-type {\n",
       "        vertical-align: middle;\n",
       "    }\n",
       "\n",
       "    .dataframe tbody tr th {\n",
       "        vertical-align: top;\n",
       "    }\n",
       "\n",
       "    .dataframe thead th {\n",
       "        text-align: right;\n",
       "    }\n",
       "</style>\n",
       "<table border=\"1\" class=\"dataframe\">\n",
       "  <thead>\n",
       "    <tr style=\"text-align: right;\">\n",
       "      <th></th>\n",
       "      <th>time</th>\n",
       "      <th>contents</th>\n",
       "    </tr>\n",
       "  </thead>\n",
       "  <tbody>\n",
       "    <tr>\n",
       "      <th>0</th>\n",
       "      <td>2023-12-26</td>\n",
       "      <td>联合国秘书长古特雷斯今天宣布，任命来自荷兰的西格丽德·卡格（Sigrid Kaag）为加沙人...</td>\n",
       "    </tr>\n",
       "    <tr>\n",
       "      <th>1</th>\n",
       "      <td>2023-12-26</td>\n",
       "      <td>世界卫生组织今天表示，加沙不堪重负的医护人员在继续努力抢救遭受导弹袭击的受害者。其中，加沙中...</td>\n",
       "    </tr>\n",
       "    <tr>\n",
       "      <th>2</th>\n",
       "      <td>2023-12-25</td>\n",
       "      <td>世界卫生组织团队今天访问了加沙阿克萨医院，了解迈加齐难民营遇袭事件中伤者的治疗情况。据报道，...</td>\n",
       "    </tr>\n",
       "    <tr>\n",
       "      <th>3</th>\n",
       "      <td>2023-12-23</td>\n",
       "      <td>以色列继续从陆海空大举轰炸加沙。联合国开发计划署表示，在该机构工作了近30年的资深雇员穆格拉...</td>\n",
       "    </tr>\n",
       "    <tr>\n",
       "      <th>4</th>\n",
       "      <td>2023-12-22</td>\n",
       "      <td>联合国安理会今天通过了向加沙提供更多援助的决议。决议通过后不久，联合国秘书长古特雷斯在纽约总...</td>\n",
       "    </tr>\n",
       "  </tbody>\n",
       "</table>\n",
       "</div>"
      ],
      "text/plain": [
       "         time                                           contents\n",
       "0  2023-12-26  联合国秘书长古特雷斯今天宣布，任命来自荷兰的西格丽德·卡格（Sigrid Kaag）为加沙人...\n",
       "1  2023-12-26  世界卫生组织今天表示，加沙不堪重负的医护人员在继续努力抢救遭受导弹袭击的受害者。其中，加沙中...\n",
       "2  2023-12-25  世界卫生组织团队今天访问了加沙阿克萨医院，了解迈加齐难民营遇袭事件中伤者的治疗情况。据报道，...\n",
       "3  2023-12-23  以色列继续从陆海空大举轰炸加沙。联合国开发计划署表示，在该机构工作了近30年的资深雇员穆格拉...\n",
       "4  2023-12-22  联合国安理会今天通过了向加沙提供更多援助的决议。决议通过后不久，联合国秘书长古特雷斯在纽约总..."
      ]
     },
     "execution_count": 3,
     "metadata": {},
     "output_type": "execute_result"
    }
   ],
   "source": [
    "final.head()"
   ]
  },
  {
   "cell_type": "code",
   "execution_count": 4,
   "metadata": {},
   "outputs": [],
   "source": [
    "from dateutil.parser import parse\n",
    "\n",
    "final['time'] = final['time'].apply(parse)"
   ]
  },
  {
   "cell_type": "code",
   "execution_count": 5,
   "metadata": {},
   "outputs": [],
   "source": [
    "from datetime import datetime\n",
    "\n",
    "starttime = \"2023-10-07 00:00:00\"\n",
    "final = final[final['time'] >= datetime.strptime(starttime, \"%Y-%m-%d %H:%M:%S\")]"
   ]
  },
  {
   "cell_type": "code",
   "execution_count": 6,
   "metadata": {},
   "outputs": [
    {
     "data": {
      "text/html": [
       "<div>\n",
       "<style scoped>\n",
       "    .dataframe tbody tr th:only-of-type {\n",
       "        vertical-align: middle;\n",
       "    }\n",
       "\n",
       "    .dataframe tbody tr th {\n",
       "        vertical-align: top;\n",
       "    }\n",
       "\n",
       "    .dataframe thead th {\n",
       "        text-align: right;\n",
       "    }\n",
       "</style>\n",
       "<table border=\"1\" class=\"dataframe\">\n",
       "  <thead>\n",
       "    <tr style=\"text-align: right;\">\n",
       "      <th></th>\n",
       "      <th>time</th>\n",
       "      <th>contents</th>\n",
       "    </tr>\n",
       "  </thead>\n",
       "  <tbody>\n",
       "    <tr>\n",
       "      <th>0</th>\n",
       "      <td>2023-12-26 00:00:00</td>\n",
       "      <td>联合国秘书长古特雷斯今天宣布，任命来自荷兰的西格丽德·卡格（Sigrid Kaag）为加沙人...</td>\n",
       "    </tr>\n",
       "    <tr>\n",
       "      <th>1</th>\n",
       "      <td>2023-12-26 00:00:00</td>\n",
       "      <td>世界卫生组织今天表示，加沙不堪重负的医护人员在继续努力抢救遭受导弹袭击的受害者。其中，加沙中...</td>\n",
       "    </tr>\n",
       "    <tr>\n",
       "      <th>2</th>\n",
       "      <td>2023-12-25 00:00:00</td>\n",
       "      <td>世界卫生组织团队今天访问了加沙阿克萨医院，了解迈加齐难民营遇袭事件中伤者的治疗情况。据报道，...</td>\n",
       "    </tr>\n",
       "    <tr>\n",
       "      <th>3</th>\n",
       "      <td>2023-12-23 00:00:00</td>\n",
       "      <td>以色列继续从陆海空大举轰炸加沙。联合国开发计划署表示，在该机构工作了近30年的资深雇员穆格拉...</td>\n",
       "    </tr>\n",
       "    <tr>\n",
       "      <th>4</th>\n",
       "      <td>2023-12-22 00:00:00</td>\n",
       "      <td>联合国安理会今天通过了向加沙提供更多援助的决议。决议通过后不久，联合国秘书长古特雷斯在纽约总...</td>\n",
       "    </tr>\n",
       "    <tr>\n",
       "      <th>...</th>\n",
       "      <td>...</td>\n",
       "      <td>...</td>\n",
       "    </tr>\n",
       "    <tr>\n",
       "      <th>238</th>\n",
       "      <td>2023-11-09 15:25:09</td>\n",
       "      <td>10月份，全国居民消费价格同比下降0.2%。其中，食品价格下降4.0%，非食品价格上涨0.7...</td>\n",
       "    </tr>\n",
       "    <tr>\n",
       "      <th>239</th>\n",
       "      <td>2023-10-28 15:04:50</td>\n",
       "      <td>中新社北京10月28日电 综合消息：当地时间27日，以色列军方持续加大对加沙地带的空袭和...</td>\n",
       "    </tr>\n",
       "    <tr>\n",
       "      <th>242</th>\n",
       "      <td>2023-11-16 16:44:18</td>\n",
       "      <td>以色列经济与产业部本周早些时候发布评估报告显示，新一轮巴以冲突严重冲击以色列国民经济。近...</td>\n",
       "    </tr>\n",
       "    <tr>\n",
       "      <th>243</th>\n",
       "      <td>2023-10-15 18:31:14</td>\n",
       "      <td>据《以色列时报》当地时间15日报道，以色列国防军表示，自10月7日本轮巴以冲突发生以来，...</td>\n",
       "    </tr>\n",
       "    <tr>\n",
       "      <th>244</th>\n",
       "      <td>2023-10-27 06:15:37</td>\n",
       "      <td>当地时间10月25日，联合国安理会就俄罗斯和美国分别提交的两份关于巴以局势的决议草案进行...</td>\n",
       "    </tr>\n",
       "  </tbody>\n",
       "</table>\n",
       "<p>309 rows × 2 columns</p>\n",
       "</div>"
      ],
      "text/plain": [
       "                   time                                           contents\n",
       "0   2023-12-26 00:00:00  联合国秘书长古特雷斯今天宣布，任命来自荷兰的西格丽德·卡格（Sigrid Kaag）为加沙人...\n",
       "1   2023-12-26 00:00:00  世界卫生组织今天表示，加沙不堪重负的医护人员在继续努力抢救遭受导弹袭击的受害者。其中，加沙中...\n",
       "2   2023-12-25 00:00:00  世界卫生组织团队今天访问了加沙阿克萨医院，了解迈加齐难民营遇袭事件中伤者的治疗情况。据报道，...\n",
       "3   2023-12-23 00:00:00  以色列继续从陆海空大举轰炸加沙。联合国开发计划署表示，在该机构工作了近30年的资深雇员穆格拉...\n",
       "4   2023-12-22 00:00:00  联合国安理会今天通过了向加沙提供更多援助的决议。决议通过后不久，联合国秘书长古特雷斯在纽约总...\n",
       "..                  ...                                                ...\n",
       "238 2023-11-09 15:25:09  10月份，全国居民消费价格同比下降0.2%。其中，食品价格下降4.0%，非食品价格上涨0.7...\n",
       "239 2023-10-28 15:04:50  　　中新社北京10月28日电 综合消息：当地时间27日，以色列军方持续加大对加沙地带的空袭和...\n",
       "242 2023-11-16 16:44:18  　　以色列经济与产业部本周早些时候发布评估报告显示，新一轮巴以冲突严重冲击以色列国民经济。近...\n",
       "243 2023-10-15 18:31:14  　　据《以色列时报》当地时间15日报道，以色列国防军表示，自10月7日本轮巴以冲突发生以来，...\n",
       "244 2023-10-27 06:15:37  　　当地时间10月25日，联合国安理会就俄罗斯和美国分别提交的两份关于巴以局势的决议草案进行...\n",
       "\n",
       "[309 rows x 2 columns]"
      ]
     },
     "execution_count": 6,
     "metadata": {},
     "output_type": "execute_result"
    }
   ],
   "source": [
    "final"
   ]
  },
  {
   "cell_type": "code",
   "execution_count": 7,
   "metadata": {},
   "outputs": [
    {
     "name": "stdout",
     "output_type": "stream",
     "text": [
      "<class 'pandas.core.frame.DataFrame'>\n",
      "Index: 309 entries, 0 to 244\n",
      "Data columns (total 2 columns):\n",
      " #   Column    Non-Null Count  Dtype         \n",
      "---  ------    --------------  -----         \n",
      " 0   time      309 non-null    datetime64[ns]\n",
      " 1   contents  304 non-null    object        \n",
      "dtypes: datetime64[ns](1), object(1)\n",
      "memory usage: 7.2+ KB\n"
     ]
    }
   ],
   "source": [
    "final.info()"
   ]
  },
  {
   "cell_type": "code",
   "execution_count": 8,
   "metadata": {},
   "outputs": [],
   "source": [
    "final.to_csv(\"/home/chengyuli/yanshan/data/DataScience/finalData/news.csv\", index=False)"
   ]
  },
  {
   "cell_type": "code",
   "execution_count": null,
   "metadata": {},
   "outputs": [],
   "source": []
  }
 ],
 "metadata": {
  "kernelspec": {
   "display_name": "MachineLearning",
   "language": "python",
   "name": "ml"
  },
  "language_info": {
   "codemirror_mode": {
    "name": "ipython",
    "version": 3
   },
   "file_extension": ".py",
   "mimetype": "text/x-python",
   "name": "python",
   "nbconvert_exporter": "python",
   "pygments_lexer": "ipython3",
   "version": "3.8.18"
  }
 },
 "nbformat": 4,
 "nbformat_minor": 2
}
