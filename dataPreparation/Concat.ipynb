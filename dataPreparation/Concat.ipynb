{
 "cells": [
  {
   "cell_type": "code",
   "execution_count": 16,
   "metadata": {},
   "outputs": [],
   "source": [
    "import pandas as pd\n",
    "import numpy as np\n",
    "\n",
    "import os"
   ]
  },
  {
   "cell_type": "code",
   "execution_count": 17,
   "metadata": {},
   "outputs": [],
   "source": [
    "file_dir = '/home/chengyuli/yanshan/data/DataScience/rawData'\n",
    "\n",
    "file_list = os.walk(file_dir)\n",
    "\n",
    "df_list = []\n",
    "\n",
    "for root, dirs, files in file_list:\n",
    "    for file in files:\n",
    "        df_list.append(pd.read_csv(os.path.join(file_dir, file)))\n",
    "        \n",
    "final = pd.concat(df_list)"
   ]
  },
  {
   "cell_type": "code",
   "execution_count": 18,
   "metadata": {},
   "outputs": [
    {
     "data": {
      "text/html": [
       "<div>\n",
       "<style scoped>\n",
       "    .dataframe tbody tr th:only-of-type {\n",
       "        vertical-align: middle;\n",
       "    }\n",
       "\n",
       "    .dataframe tbody tr th {\n",
       "        vertical-align: top;\n",
       "    }\n",
       "\n",
       "    .dataframe thead th {\n",
       "        text-align: right;\n",
       "    }\n",
       "</style>\n",
       "<table border=\"1\" class=\"dataframe\">\n",
       "  <thead>\n",
       "    <tr style=\"text-align: right;\">\n",
       "      <th></th>\n",
       "      <th>contents</th>\n",
       "      <th>time</th>\n",
       "    </tr>\n",
       "  </thead>\n",
       "  <tbody>\n",
       "    <tr>\n",
       "      <th>0</th>\n",
       "      <td>#巴以冲突#据当地记者：加沙地带中部努塞拉特，在以色列的袭击中，又有两名小女孩丧生。视频不打...</td>\n",
       "      <td>2023-12-28 23:56</td>\n",
       "    </tr>\n",
       "    <tr>\n",
       "      <th>1</th>\n",
       "      <td>#巴以冲突#战乱中巴勒斯坦儿童惨不忍睹的真实录像。网友：这是巴基斯坦人民向世界血与泪的控诉。...</td>\n",
       "      <td>2023-12-28 23:47</td>\n",
       "    </tr>\n",
       "    <tr>\n",
       "      <th>2</th>\n",
       "      <td>#巴以冲突#据外媒消息：以色列的犹太人创作了这座雕塑，并将其命名为“麦克耶稣”。#黄媒不会说...</td>\n",
       "      <td>2023-12-28 23:36</td>\n",
       "    </tr>\n",
       "    <tr>\n",
       "      <th>3</th>\n",
       "      <td>【年终节目2023世界·选择】回望这一年，地区冲突延宕不止，地缘政治博弈日趋复杂，全球经济复...</td>\n",
       "      <td>2023-12-28 23:31</td>\n",
       "    </tr>\n",
       "    <tr>\n",
       "      <th>4</th>\n",
       "      <td>【#视频回顾2023国际新闻大事件#】巴以冲突、中东迎来“和解潮”、毛伊岛大火、英国伯明翰“...</td>\n",
       "      <td>2023-12-28 23:24</td>\n",
       "    </tr>\n",
       "  </tbody>\n",
       "</table>\n",
       "</div>"
      ],
      "text/plain": [
       "                                            contents              time\n",
       "0  #巴以冲突#据当地记者：加沙地带中部努塞拉特，在以色列的袭击中，又有两名小女孩丧生。视频不打...  2023-12-28 23:56\n",
       "1  #巴以冲突#战乱中巴勒斯坦儿童惨不忍睹的真实录像。网友：这是巴基斯坦人民向世界血与泪的控诉。...  2023-12-28 23:47\n",
       "2  #巴以冲突#据外媒消息：以色列的犹太人创作了这座雕塑，并将其命名为“麦克耶稣”。#黄媒不会说...  2023-12-28 23:36\n",
       "3  【年终节目2023世界·选择】回望这一年，地区冲突延宕不止，地缘政治博弈日趋复杂，全球经济复...  2023-12-28 23:31\n",
       "4  【#视频回顾2023国际新闻大事件#】巴以冲突、中东迎来“和解潮”、毛伊岛大火、英国伯明翰“...  2023-12-28 23:24"
      ]
     },
     "execution_count": 18,
     "metadata": {},
     "output_type": "execute_result"
    }
   ],
   "source": [
    "final.head()"
   ]
  },
  {
   "cell_type": "code",
   "execution_count": 19,
   "metadata": {},
   "outputs": [],
   "source": [
    "from dateutil.parser import parse\n",
    "\n",
    "final['time'] = final['time'].apply(parse)"
   ]
  },
  {
   "cell_type": "code",
   "execution_count": 20,
   "metadata": {},
   "outputs": [],
   "source": [
    "from datetime import datetime\n",
    "\n",
    "starttime = \"2023-10-07 00:00:00\"\n",
    "endtime = \"2024-01-06 00:00:00\"\n",
    "final = final[final['time'] >= datetime.strptime(starttime, \"%Y-%m-%d %H:%M:%S\")]\n",
    "final = final[final['time'] <= datetime.strptime(endtime, \"%Y-%m-%d %H:%M:%S\")]"
   ]
  },
  {
   "cell_type": "code",
   "execution_count": 22,
   "metadata": {},
   "outputs": [],
   "source": [
    "final = final.dropna()"
   ]
  },
  {
   "cell_type": "code",
   "execution_count": 23,
   "metadata": {},
   "outputs": [
    {
     "name": "stdout",
     "output_type": "stream",
     "text": [
      "<class 'pandas.core.frame.DataFrame'>\n",
      "Index: 91832 entries, 0 to 244\n",
      "Data columns (total 2 columns):\n",
      " #   Column    Non-Null Count  Dtype         \n",
      "---  ------    --------------  -----         \n",
      " 0   contents  91832 non-null  object        \n",
      " 1   time      91832 non-null  datetime64[ns]\n",
      "dtypes: datetime64[ns](1), object(1)\n",
      "memory usage: 2.1+ MB\n"
     ]
    }
   ],
   "source": [
    "final.info()"
   ]
  },
  {
   "cell_type": "code",
   "execution_count": 24,
   "metadata": {},
   "outputs": [],
   "source": [
    "final.to_csv(\"/home/chengyuli/yanshan/data/DataScience/finalData/final.csv\", index=False)"
   ]
  },
  {
   "cell_type": "code",
   "execution_count": null,
   "metadata": {},
   "outputs": [],
   "source": []
  }
 ],
 "metadata": {
  "kernelspec": {
   "display_name": "MachineLearning",
   "language": "python",
   "name": "ml"
  },
  "language_info": {
   "codemirror_mode": {
    "name": "ipython",
    "version": 3
   },
   "file_extension": ".py",
   "mimetype": "text/x-python",
   "name": "python",
   "nbconvert_exporter": "python",
   "pygments_lexer": "ipython3",
   "version": "3.8.18"
  }
 },
 "nbformat": 4,
 "nbformat_minor": 2
}
